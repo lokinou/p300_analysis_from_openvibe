{
 "cells": [
  {
   "cell_type": "markdown",
   "source": [
    "# P300 analysis from OpenVibe/BCI2000\n",
    "Filter signal, average ERPs, offline classification\n",
    "source: [https://github.com/lokinou/p300_analysis_from_openvibe](https://github.com/lokinou/p300_analysis_from_openvibe)\\"
   ],
   "metadata": {
    "collapsed": false
   }
  },
  {
   "cell_type": "code",
   "source": [
    "# uncomment the line wit qt below to obtain separate plots to save\n",
    "#% matplotlib inline\n",
    "#%matplotlib qt"
   ],
   "metadata": {
    "collapsed": false,
    "pycharm": {
     "name": "#%%\n"
    }
   },
   "execution_count": null,
   "outputs": []
  },
  {
   "cell_type": "markdown",
   "source": [
    "## Test the sample data"
   ],
   "metadata": {
    "collapsed": false
   }
  },
  {
   "cell_type": "code",
   "execution_count": null,
   "outputs": [],
   "source": [
    "from p3k.P300Analysis import run_analysis\n",
    "\n",
    "run_analysis()"
   ],
   "metadata": {
    "collapsed": false,
    "pycharm": {
     "name": "#%%\n",
     "is_executing": true
    }
   }
  },
  {
   "cell_type": "markdown",
   "source": [
    "## BCI2000 data"
   ],
   "metadata": {
    "collapsed": false
   }
  },
  {
   "cell_type": "code",
   "execution_count": null,
   "outputs": [],
   "source": [
    "from p3k.P300Analysis import run_analysis\n",
    "from p3k.params import ParamData, ParamChannels\n",
    "\n",
    "# Define the path to data parameter\n",
    "p_data = ParamData(data_files='./data_sample', extension_filter='.dat')\n",
    "p_data"
   ],
   "metadata": {
    "collapsed": false,
    "pycharm": {
     "name": "#%%\n"
    }
   }
  },
  {
   "cell_type": "code",
   "execution_count": null,
   "outputs": [],
   "source": [
    "# I look for channels inside the dat files for bci2000, but it doesn't guarantee it's been parametered properly, so manual steps can be needed\n",
    "p_channels = ParamChannels(['Fz', 'Cz',\n",
    "                            'P3', 'Pz', 'P4',\n",
    "                            'O1', 'Oz', 'O2'])\n",
    "p_channels"
   ],
   "metadata": {
    "collapsed": false,
    "pycharm": {
     "name": "#%%\n"
    }
   }
  },
  {
   "cell_type": "code",
   "execution_count": null,
   "outputs": [],
   "source": [
    "# run the analysis\n",
    "run_analysis(param_data=p_data, param_channels=p_channels)"
   ],
   "metadata": {
    "collapsed": false,
    "pycharm": {
     "name": "#%%\n"
    }
   }
  },
  {
   "cell_type": "markdown",
   "source": [
    "## OpenVibe data\n",
    "> Check my [tutorial to convert .ov to .gdf](https://github.com/lokinou/openvibe_to_gdf_tutorial)\n",
    "\n",
    "OpenVibe to gdf conversion does not carry channel names, and P300 Speller description, we must define them here"
   ],
   "metadata": {
    "collapsed": false
   }
  },
  {
   "cell_type": "code",
   "execution_count": null,
   "outputs": [],
   "source": [
    "from p3k.params import ParamChannels, ParamData, SpellerInfo\n",
    "\n",
    "# channel\n",
    "p_channels = ParamChannels(cname=['Fz', 'FC1', 'FC2', 'C1', 'Cz', 'C2', 'P3', 'Pz', 'P4', 'Oz'])\n",
    "\n",
    "# P300 speller description\n",
    "speller_info = SpellerInfo(nb_stimulus_rows=7, nb_stimulus_cols=7, nb_seq=10)\n",
    "\n",
    "# gdf file location\n",
    "p_data = ParamData(data_files=r'./data_ov')"
   ],
   "metadata": {
    "collapsed": false,
    "pycharm": {
     "name": "#%% from p3k.P300Analysis import run_analysis\n"
    }
   }
  },
  {
   "cell_type": "code",
   "execution_count": null,
   "outputs": [],
   "source": [
    "# run the analysis\n",
    "run_analysis(param_data=p_data, param_channels=p_channels, speller_info=speller_info)"
   ],
   "metadata": {
    "collapsed": false,
    "pycharm": {
     "name": "#%%\n"
    }
   }
  },
  {
   "cell_type": "markdown",
   "source": [
    "## Changing parameters\n",
    "If not initialized or passed to `run_analysis()` default parameters apply. You can change them very easily:"
   ],
   "metadata": {
    "collapsed": false
   }
  },
  {
   "cell_type": "code",
   "execution_count": null,
   "outputs": [],
   "source": [
    "from p3k.P300Analysis import run_analysis\n",
    "from p3k.params import ParamData, ParamPreprocessing, ParamEpochs, ParamLDA, DisplayPlots\n",
    "\n",
    "p_data = ParamData(data_dir='./data_bci2k')\n",
    "\n",
    "# Change the length of the ERP window and baseline\n",
    "p_epoch = ParamEpochs(time_epoch=(-0.2, 1), time_baseline=(-.1, 0))\n",
    "\n",
    "# Use artifact subspace reconstruction for noisy data, and select another bandpass\n",
    "p_preproc = ParamPreprocessing(apply_ASR=True,\n",
    "                               bandpass=(.5, 30))\n",
    "# Change the number of cross fold to match the number of trials (e.g 8)\n",
    "p_lda = ParamLDA(nb_cross_fold=5)\n",
    "\n",
    "# Select which plots to display\n",
    "p_plots = DisplayPlots(butterfly_topomap=True)\n",
    "\n",
    "# Visualize a few of those parameters\n",
    "print(p_epoch)\n",
    "print(p_plots)\n",
    "print(p_lda)"
   ],
   "metadata": {
    "collapsed": false,
    "pycharm": {
     "name": "#%%\n"
    }
   }
  },
  {
   "cell_type": "code",
   "execution_count": null,
   "outputs": [],
   "source": [
    "# Launch the analysis\n",
    "run_analysis(param_data=p_data, param_epochs=p_epoch, param_preproc=p_preproc, param_lda=p_lda, display_plots=p_plots)\n",
    "\n"
   ],
   "metadata": {
    "collapsed": false,
    "pycharm": {
     "name": "#%%\n"
    }
   }
  }
 ],
 "metadata": {
  "kernelspec": {
   "name": "pycharm-4d040ce4",
   "language": "python",
   "display_name": "PyCharm (p300_analysis_from_openvibe)"
  },
  "language_info": {
   "codemirror_mode": {
    "name": "ipython",
    "version": 3
   },
   "file_extension": ".py",
   "mimetype": "text/x-python",
   "name": "python",
   "nbconvert_exporter": "python",
   "pygments_lexer": "ipython3",
   "version": "3.8.10"
  }
 },
 "nbformat": 4,
 "nbformat_minor": 5
}